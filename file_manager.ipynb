{
 "cells": [
  {
   "cell_type": "code",
   "execution_count": 163,
   "metadata": {},
   "outputs": [],
   "source": [
    "import os\n",
    "import shutil\n",
    "import random\n",
    "from tqdm import tqdm\n",
    "from glob import glob\n",
    "import subprocess"
   ]
  },
  {
   "cell_type": "code",
   "execution_count": 164,
   "metadata": {},
   "outputs": [
    {
     "data": {
      "text/plain": [
       "['192.168.0.201',\n",
       " '192.168.0.202',\n",
       " '192.168.0.203',\n",
       " '192.168.0.204',\n",
       " '192.168.0.205',\n",
       " '192.168.0.206',\n",
       " '192.168.0.207',\n",
       " '192.168.0.208',\n",
       " '192.168.0.209',\n",
       " '192.168.0.210',\n",
       " '192.168.0.211',\n",
       " '192.168.0.212']"
      ]
     },
     "execution_count": 164,
     "metadata": {},
     "output_type": "execute_result"
    }
   ],
   "source": [
    "# define the ip\n",
    "ips = []\n",
    "pre = '192.168.0'\n",
    "n = 12\n",
    "for i in range(n):\n",
    "    ips.append(f'{pre}.{str(200+i+1)}')\n",
    "ips"
   ]
  },
  {
   "cell_type": "code",
   "execution_count": 149,
   "metadata": {},
   "outputs": [
    {
     "data": {
      "text/plain": [
       "['slides\\\\01.odp',\n",
       " 'slides\\\\02.odp',\n",
       " 'slides\\\\03.odp',\n",
       " 'slides\\\\04.odp',\n",
       " 'slides\\\\05.odp',\n",
       " 'slides\\\\05_1.odp',\n",
       " 'slides\\\\05_2.odp',\n",
       " 'slides\\\\06.odp',\n",
       " 'slides\\\\06_1.odp',\n",
       " 'slides\\\\07.odp',\n",
       " 'slides\\\\07_1.odp',\n",
       " 'slides\\\\08.odp',\n",
       " 'slides\\\\09.odp',\n",
       " 'slides\\\\10.odp',\n",
       " 'slides\\\\10_1.odp',\n",
       " 'slides\\\\11.odp',\n",
       " 'slides\\\\12.odp']"
      ]
     },
     "execution_count": 149,
     "metadata": {},
     "output_type": "execute_result"
    }
   ],
   "source": [
    "slides = sorted(glob(os.path.normpath('./slides/*.odp')))\n",
    "slides"
   ]
  },
  {
   "cell_type": "code",
   "execution_count": 25,
   "metadata": {},
   "outputs": [
    {
     "name": "stderr",
     "output_type": "stream",
     "text": [
      "100%|██████████████████████████████████████████████████████████████████████████████████| 12/12 [00:06<00:00,  1.84it/s]\n"
     ]
    }
   ],
   "source": [
    "# cleaning up folder\n",
    "for ip in tqdm(ips):\n",
    "    try:\n",
    "        pass\n",
    "        # os.system(f\"ssh pi@{ip} rm LDM/slides/*\")\n",
    "    except:\n",
    "        print(f'error in {ip}')"
   ]
  },
  {
   "cell_type": "code",
   "execution_count": 76,
   "metadata": {},
   "outputs": [
    {
     "name": "stderr",
     "output_type": "stream",
     "text": [
      "100%|██████████████████████████████████████████████████████████████████| 12/12 [00:00<00:00, 3000.22it/s]\n"
     ]
    }
   ],
   "source": [
    "# copy files\n",
    "source = os.path.join(os.getcwd(), os.path.normpath(f'./slides/*.odp'))\n",
    "\n",
    "for ip in tqdm(ips):\n",
    "    # if ip == '192.168.0.206':\n",
    "    if True:\n",
    "        try:\n",
    "            # os.system(f'scp \"{source}\" pi@{ip}:LDM/slides')\n",
    "            process = subprocess.Popen(['scp', f'{source}', f'pi@{ip}:LDM/slides'], shell=False)\n",
    "        except:\n",
    "            print(f'error in {ip}')"
   ]
  },
  {
   "cell_type": "code",
   "execution_count": 165,
   "metadata": {},
   "outputs": [
    {
     "name": "stdout",
     "output_type": "stream",
     "text": [
      "True\n"
     ]
    }
   ],
   "source": [
    "# remove single file\n",
    "filename = '10_1.odp'\n",
    "source = os.path.join(os.getcwd(), os.path.normpath(f'./slides/{filename}'))\n",
    "print(os.path.isfile(source))"
   ]
  },
  {
   "cell_type": "code",
   "execution_count": 166,
   "metadata": {},
   "outputs": [
    {
     "name": "stderr",
     "output_type": "stream",
     "text": [
      "100%|██████████████████████████████████████████████████████████████████████| 12/12 [00:05<00:00,  2.24it/s]\n"
     ]
    }
   ],
   "source": [
    "for ip in tqdm(ips):\n",
    "    try:\n",
    "        os.system(f\"ssh pi@{ip} rm LDM/slides/{filename}\")\n",
    "    except:\n",
    "        print(f'error in {ip}')"
   ]
  },
  {
   "cell_type": "code",
   "execution_count": 167,
   "metadata": {},
   "outputs": [
    {
     "name": "stdout",
     "output_type": "stream",
     "text": [
      "True\n"
     ]
    }
   ],
   "source": [
    "# upload single file\n",
    "\n",
    "filename = '10_2.odp'\n",
    "source = os.path.join(os.getcwd(), os.path.normpath(f'./slides/{filename}'))\n",
    "print(os.path.isfile(source))\n"
   ]
  },
  {
   "cell_type": "code",
   "execution_count": 169,
   "metadata": {},
   "outputs": [
    {
     "name": "stderr",
     "output_type": "stream",
     "text": [
      "12it [00:00, 187.49it/s]\n"
     ]
    }
   ],
   "source": [
    "for ip_num, ip in tqdm(enumerate(ips)):\n",
    "    # if ip == '192.168.0.206':\n",
    "    if True:\n",
    "        try:\n",
    "            # os.system(f'scp \"{source}\" pi@{ip}:LDM/slides')\n",
    "            process = subprocess.Popen(['scp', f'{source}', f'pi@{ip}:LDM/slides'], shell=False)\n",
    "        except:\n",
    "            print(f'error in {ip}')"
   ]
  },
  {
   "cell_type": "code",
   "execution_count": 67,
   "metadata": {},
   "outputs": [
    {
     "name": "stdout",
     "output_type": "stream",
     "text": [
      "['G:\\\\My Drive\\\\PythonProjects\\\\twelve_screens_slides\\\\intro\\\\201\\\\00_introduction.odp', 'G:\\\\My Drive\\\\PythonProjects\\\\twelve_screens_slides\\\\intro\\\\202\\\\00_introduction.odp', 'G:\\\\My Drive\\\\PythonProjects\\\\twelve_screens_slides\\\\intro\\\\203\\\\00_introduction.odp', 'G:\\\\My Drive\\\\PythonProjects\\\\twelve_screens_slides\\\\intro\\\\204\\\\00_introduction.odp', 'G:\\\\My Drive\\\\PythonProjects\\\\twelve_screens_slides\\\\intro\\\\205\\\\00_introduction.odp', 'G:\\\\My Drive\\\\PythonProjects\\\\twelve_screens_slides\\\\intro\\\\206\\\\00_introduction.odp', 'G:\\\\My Drive\\\\PythonProjects\\\\twelve_screens_slides\\\\intro\\\\207\\\\00_introduction.odp', 'G:\\\\My Drive\\\\PythonProjects\\\\twelve_screens_slides\\\\intro\\\\208\\\\00_introduction.odp', 'G:\\\\My Drive\\\\PythonProjects\\\\twelve_screens_slides\\\\intro\\\\209\\\\00_introduction.odp', 'G:\\\\My Drive\\\\PythonProjects\\\\twelve_screens_slides\\\\intro\\\\210\\\\00_introduction.odp', 'G:\\\\My Drive\\\\PythonProjects\\\\twelve_screens_slides\\\\intro\\\\211\\\\00_introduction.odp', 'G:\\\\My Drive\\\\PythonProjects\\\\twelve_screens_slides\\\\intro\\\\212\\\\00_introduction.odp']\n"
     ]
    }
   ],
   "source": [
    "# upload intro file\n",
    "\n",
    "intro_source = os.path.join(os.getcwd(), os.path.normpath(f'./intro/*/*.odp'))\n",
    "intro_files = sorted(glob(intro_source))\n",
    "print(intro_files)"
   ]
  },
  {
   "cell_type": "code",
   "execution_count": 69,
   "metadata": {},
   "outputs": [
    {
     "name": "stderr",
     "output_type": "stream",
     "text": [
      "12it [00:00, 2385.39it/s]\n"
     ]
    }
   ],
   "source": [
    "for slide_num, ip in tqdm(enumerate(ips)):\n",
    "    if slide_num == 0:\n",
    "        file = intro_files[slide_num]\n",
    "        try:\n",
    "            # os.system(f'scp \"{source}\" pi@{ip}:LDM/slides')\n",
    "            process = subprocess.Popen(['scp', f'{file}', f'pi@{ip}:LDM/slides'], shell=False)\n",
    "        except:\n",
    "            print(f'error in {ip}')"
   ]
  },
  {
   "cell_type": "code",
   "execution_count": 170,
   "metadata": {},
   "outputs": [
    {
     "data": {
      "text/plain": [
       "['individual_slides\\\\01.odp',\n",
       " 'individual_slides\\\\02.odp',\n",
       " 'individual_slides\\\\03.odp',\n",
       " 'individual_slides\\\\04.odp',\n",
       " 'individual_slides\\\\05_2.odp',\n",
       " 'individual_slides\\\\06_1.odp',\n",
       " 'individual_slides\\\\07_1.odp',\n",
       " 'individual_slides\\\\08.odp',\n",
       " 'individual_slides\\\\09.odp',\n",
       " 'individual_slides\\\\10_2.odp',\n",
       " 'individual_slides\\\\11.odp',\n",
       " 'individual_slides\\\\12.odp']"
      ]
     },
     "execution_count": 170,
     "metadata": {},
     "output_type": "execute_result"
    }
   ],
   "source": [
    "# upload individual file for final\n",
    "individual_slides = sorted(glob(os.path.normpath('./individual_slides/*.odp')))\n",
    "individual_slides"
   ]
  },
  {
   "cell_type": "code",
   "execution_count": 171,
   "metadata": {},
   "outputs": [
    {
     "name": "stderr",
     "output_type": "stream",
     "text": [
      "12it [00:00, 179.10it/s]\n"
     ]
    }
   ],
   "source": [
    "for slide_num, ip in tqdm(enumerate(ips)):\n",
    "    file = individual_slides[slide_num]\n",
    "    try:\n",
    "        # os.system(f'scp \"{source}\" pi@{ip}:LDM/slides')\n",
    "        subprocess.Popen(['scp', f'{file}', f'pi@{ip}:LDM/slide'], shell=False)\n",
    "    except:\n",
    "        print(f'error in {ip}')"
   ]
  },
  {
   "cell_type": "code",
   "execution_count": 143,
   "metadata": {},
   "outputs": [
    {
     "name": "stderr",
     "output_type": "stream",
     "text": [
      "12it [00:00, 214.28it/s]"
     ]
    },
    {
     "name": "stdout",
     "output_type": "stream",
     "text": [
      "True\n"
     ]
    },
    {
     "name": "stderr",
     "output_type": "stream",
     "text": [
      "\n"
     ]
    }
   ],
   "source": [
    "# upload single file\n",
    "\n",
    "filename = '11.odp'\n",
    "source = os.path.join(os.getcwd(), os.path.normpath(f'./slides/{filename}'))\n",
    "print(os.path.isfile(source))\n",
    "\n",
    "for ip_num, ip in tqdm(enumerate(ips)):\n",
    "    # if ip == '192.168.0.206':\n",
    "    if True:\n",
    "        try:\n",
    "            # os.system(f'scp \"{source}\" pi@{ip}:LDM/slides')\n",
    "            process = subprocess.Popen(['scp', f'{source}', f'pi@{ip}:LDM/slides'], shell=False)\n",
    "        except:\n",
    "            print(f'error in {ip}')\n"
   ]
  },
  {
   "cell_type": "code",
   "execution_count": 144,
   "metadata": {},
   "outputs": [
    {
     "name": "stderr",
     "output_type": "stream",
     "text": [
      "12it [00:00, 203.41it/s]"
     ]
    },
    {
     "name": "stdout",
     "output_type": "stream",
     "text": [
      "True\n"
     ]
    },
    {
     "name": "stderr",
     "output_type": "stream",
     "text": [
      "\n"
     ]
    }
   ],
   "source": [
    "# upload single file\n",
    "\n",
    "filename = '12.odp'\n",
    "source = os.path.join(os.getcwd(), os.path.normpath(f'./slides/{filename}'))\n",
    "print(os.path.isfile(source))\n",
    "\n",
    "for ip_num, ip in tqdm(enumerate(ips)):\n",
    "    # if ip == '192.168.0.206':\n",
    "    if True:\n",
    "        try:\n",
    "            # os.system(f'scp \"{source}\" pi@{ip}:LDM/slides')\n",
    "            process = subprocess.Popen(['scp', f'{source}', f'pi@{ip}:LDM/slides'], shell=False)\n",
    "        except:\n",
    "            print(f'error in {ip}')\n"
   ]
  },
  {
   "cell_type": "code",
   "execution_count": null,
   "metadata": {},
   "outputs": [],
   "source": []
  }
 ],
 "metadata": {
  "kernelspec": {
   "display_name": "Python 3",
   "language": "python",
   "name": "python3"
  },
  "language_info": {
   "codemirror_mode": {
    "name": "ipython",
    "version": 3
   },
   "file_extension": ".py",
   "mimetype": "text/x-python",
   "name": "python",
   "nbconvert_exporter": "python",
   "pygments_lexer": "ipython3",
   "version": "3.6.12"
  }
 },
 "nbformat": 4,
 "nbformat_minor": 4
}
