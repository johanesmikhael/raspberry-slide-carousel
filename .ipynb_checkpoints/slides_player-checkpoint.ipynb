{
 "cells": [
  {
   "cell_type": "code",
   "execution_count": 100,
   "metadata": {},
   "outputs": [],
   "source": [
    "import os\n",
    "import subprocess\n",
    "from glob import glob\n",
    "from pynput.keyboard import Key, Listener\n",
    "import time"
   ]
  },
  {
   "cell_type": "code",
   "execution_count": 101,
   "metadata": {},
   "outputs": [
    {
     "data": {
      "text/plain": [
       "['192.168.0.201',\n",
       " '192.168.0.202',\n",
       " '192.168.0.203',\n",
       " '192.168.0.204',\n",
       " '192.168.0.205',\n",
       " '192.168.0.206',\n",
       " '192.168.0.207',\n",
       " '192.168.0.208',\n",
       " '192.168.0.209',\n",
       " '192.168.0.210',\n",
       " '192.168.0.211',\n",
       " '192.168.0.212']"
      ]
     },
     "execution_count": 101,
     "metadata": {},
     "output_type": "execute_result"
    }
   ],
   "source": [
    "# define the ip\n",
    "ips = []\n",
    "pre = '192.168.0'\n",
    "n = 12\n",
    "for i in range(n):\n",
    "    ips.append(f'{pre}.{str(200+i+1)}')\n",
    "ips"
   ]
  },
  {
   "cell_type": "code",
   "execution_count": 102,
   "metadata": {},
   "outputs": [],
   "source": [
    "keys = {\n",
    "    'Return': '0xff0d',\n",
    "    'Esc' : '0xff1b',\n",
    "    'Left' : '0xff51',\n",
    "    'Right' : '0xff53'\n",
    "}"
   ]
  },
  {
   "cell_type": "code",
   "execution_count": 103,
   "metadata": {},
   "outputs": [
    {
     "name": "stdout",
     "output_type": "stream",
     "text": [
      "00 01.odp\n",
      "01 02.odp\n",
      "02 03.odp\n",
      "03 04.odp\n",
      "04 05.odp\n",
      "05 06.odp\n",
      "06 07.odp\n",
      "07 09.odp\n",
      "08 11.odp\n"
     ]
    }
   ],
   "source": [
    "# grabbing the slide names\n",
    "slides = sorted(glob(os.path.normpath('./slides/*.odp')))\n",
    "slides = [x.split('\\\\')[-1] for x in slides]\n",
    "for i, slide in enumerate(slides):\n",
    "    print(f'{i:02} {slide}')"
   ]
  },
  {
   "cell_type": "code",
   "execution_count": 104,
   "metadata": {},
   "outputs": [],
   "source": [
    "# turn on the slide\n",
    "slide_num = 4\n",
    "file = slides[slide_num]\n",
    "for i in range(n):\n",
    "    ip = ips[i]\n",
    "    try:\n",
    "        # os.system(f'ssh pi@{ip} DISPLAY=:0.0 soffice --norestore --invisible --show LDM/slides/{file}')\n",
    "        k = f\"ssh pi@{ip} DISPLAY=:0.0 soffice --norestore --invisible --show LDM/slides/{file}\"\n",
    "        process = subprocess.Popen(k.split(), shell=False)\n",
    "    except:\n",
    "        print(f'error in {ip}')"
   ]
  },
  {
   "cell_type": "code",
   "execution_count": 105,
   "metadata": {},
   "outputs": [],
   "source": [
    "# positioning the slides:\n",
    "for i in range(n):\n",
    "    ip = ips[i]\n",
    "    breakdown = str(i+1)\n",
    "    try:\n",
    "        for ky in breakdown:\n",
    "            os.system(f'ssh pi@{ip} DISPLAY=:0.0 xdotool key {ky}') \n",
    "        os.system(f'ssh pi@{ip} DISPLAY=:0.0 xdotool key 0xff0d') \n",
    "        # process = subprocess.Popen(f'ssh pi@{ip} DISPLAY=:0.0 xdotool key 0xff0d'.split(), shell=False)\n",
    "        \n",
    "    except:\n",
    "        print(f'error in {ip}')\n",
    "            "
   ]
  },
  {
   "cell_type": "code",
   "execution_count": 99,
   "metadata": {},
   "outputs": [],
   "source": [
    "# shutdown the slides\n",
    "for i in range(n):\n",
    "    ip = ips[i]\n",
    "    try:\n",
    "        os.system(f'ssh pi@{ip} DISPLAY=:0.0 xdotool key 0xff1b')\n",
    "        # process = subprocess.Popen(f'ssh pi@{ip} DISPLAY=:0.0 xdotool key 0xff1b'.split(), shell=False)\n",
    "    except:\n",
    "        print('error in {ip}')"
   ]
  },
  {
   "cell_type": "code",
   "execution_count": 24,
   "metadata": {},
   "outputs": [],
   "source": [
    "# turn on the slide comparable\n",
    "\n",
    "for i in range(n):\n",
    "    file = '00_introduction.odp'\n",
    "    ip = ips[i]\n",
    "    try:\n",
    "        # os.system(f'ssh pi@{ip} DISPLAY=:0.0 soffice --norestore --invisible --show LDM/slides/{file}')\n",
    "        k = f\"ssh pi@{ip} DISPLAY=:0.0 soffice --norestore --invisible --show LDM/slides/{file}\"\n",
    "        process = subprocess.Popen(k.split(), shell=False)\n",
    "    except:\n",
    "        print(f'error in {ip}')"
   ]
  },
  {
   "cell_type": "code",
   "execution_count": 37,
   "metadata": {},
   "outputs": [],
   "source": [
    "# positioning the slides custom:\n",
    "first_slide = 9\n",
    "for i in range(n):\n",
    "    ip = ips[i]\n",
    "    page = (i + first_slide-1) % 12\n",
    "    breakdown = str(page+1)\n",
    "    try:\n",
    "        for ky in breakdown:\n",
    "            os.system(f'ssh pi@{ip} DISPLAY=:0.0 xdotool key {ky}') \n",
    "        os.system(f'ssh pi@{ip} DISPLAY=:0.0 xdotool key 0xff0d') \n",
    "        # process = subprocess.Popen(f'ssh pi@{ip} DISPLAY=:0.0 xdotool key 0xff0d'.split(), shell=False)\n",
    "        \n",
    "    except:\n",
    "        print(f'error in {ip}')\n",
    "            "
   ]
  },
  {
   "cell_type": "code",
   "execution_count": null,
   "metadata": {},
   "outputs": [],
   "source": []
  }
 ],
 "metadata": {
  "kernelspec": {
   "display_name": "Python 3",
   "language": "python",
   "name": "python3"
  },
  "language_info": {
   "codemirror_mode": {
    "name": "ipython",
    "version": 3
   },
   "file_extension": ".py",
   "mimetype": "text/x-python",
   "name": "python",
   "nbconvert_exporter": "python",
   "pygments_lexer": "ipython3",
   "version": "3.6.12"
  }
 },
 "nbformat": 4,
 "nbformat_minor": 4
}
