{
 "cells": [
  {
   "cell_type": "code",
   "execution_count": 1,
   "metadata": {},
   "outputs": [],
   "source": [
    "import os\n",
    "import shutil\n",
    "import random\n",
    "from tqdm import tqdm\n",
    "from glob import glob\n",
    "import subprocess"
   ]
  },
  {
   "cell_type": "code",
   "execution_count": 2,
   "metadata": {},
   "outputs": [
    {
     "data": {
      "text/plain": [
       "['192.168.0.201',\n",
       " '192.168.0.202',\n",
       " '192.168.0.203',\n",
       " '192.168.0.204',\n",
       " '192.168.0.205',\n",
       " '192.168.0.206',\n",
       " '192.168.0.207',\n",
       " '192.168.0.208',\n",
       " '192.168.0.209',\n",
       " '192.168.0.210',\n",
       " '192.168.0.211',\n",
       " '192.168.0.212']"
      ]
     },
     "execution_count": 2,
     "metadata": {},
     "output_type": "execute_result"
    }
   ],
   "source": [
    "# define the ip\n",
    "ips = []\n",
    "pre = '192.168.0'\n",
    "n = 12\n",
    "for i in range(n):\n",
    "    ips.append(f'{pre}.{str(200+i+1)}')\n",
    "ips"
   ]
  },
  {
   "cell_type": "code",
   "execution_count": 3,
   "metadata": {},
   "outputs": [
    {
     "name": "stderr",
     "output_type": "stream",
     "text": [
      "100%|█████████████████████████████████████████████████████████████████████████████████| 12/12 [00:00<00:00, 200.00it/s]\n"
     ]
    }
   ],
   "source": [
    "# copy open_slide\n",
    "source = os.path.join(os.getcwd(), os.path.normpath(\"./open_slide.py\"))\n",
    "\n",
    "for ip in tqdm(ips):\n",
    "    try:\n",
    "        # os.system(f'scp \"{source}\" pi@{ip}:LDM/slides')\n",
    "        subprocess.Popen(['scp', f'{source}', f'pi@{ip}:'], shell=False)\n",
    "    except:\n",
    "        print(f'error in {ip}')"
   ]
  },
  {
   "cell_type": "code",
   "execution_count": 4,
   "metadata": {},
   "outputs": [
    {
     "name": "stderr",
     "output_type": "stream",
     "text": [
      "100%|█████████████████████████████████████████████████████████████████████████████████| 12/12 [00:00<00:00, 222.22it/s]\n"
     ]
    }
   ],
   "source": [
    "# execute open file\n",
    "source = os.path.join(os.getcwd(), os.path.normpath(\"./open_slide.py\"))\n",
    "\n",
    "for ip in tqdm(ips):\n",
    "    try:\n",
    "        subprocess.Popen(f'ssh pi@{ip} python3 open_slide.py'.split(), shell=False)\n",
    "    except:\n",
    "        print(f'error in {ip}')"
   ]
  },
  {
   "cell_type": "code",
   "execution_count": 5,
   "metadata": {},
   "outputs": [
    {
     "name": "stderr",
     "output_type": "stream",
     "text": [
      "100%|█████████████████████████████████████████████████████████████████████████████████| 12/12 [00:00<00:00, 214.34it/s]\n"
     ]
    }
   ],
   "source": [
    "# copy slide_autoplay\n",
    "for ip in tqdm(ips):\n",
    "    try:\n",
    "        # os.system(f'scp \"{source}\" pi@{ip}:LDM/slides')\n",
    "        subprocess.Popen(['scp', f'{source}', f'pi@{ip}:'], shell=False)\n",
    "    except:\n",
    "        print(f'error in {ip}')"
   ]
  },
  {
   "cell_type": "code",
   "execution_count": null,
   "metadata": {},
   "outputs": [],
   "source": [
    "# execute slide_autoplay\n",
    "for ip in tqdm(ips):\n",
    "    try:\n",
    "        subprocess.Popen(f'ssh pi@{ip} python3 slide_autoplay.py'.split(), shell=False)\n",
    "    except:\n",
    "        print(f'error in {ip}')"
   ]
  },
  {
   "cell_type": "code",
   "execution_count": 9,
   "metadata": {},
   "outputs": [],
   "source": [
    "# shutdown the rasp\n",
    "for i in range(n):\n",
    "    ip = ips[i]\n",
    "    try:\n",
    "        # os.system(f'ssh pi@{ip} sudo shutdown now')\n",
    "        pass\n",
    "    except:\n",
    "        print('error in {ip}')"
   ]
  },
  {
   "cell_type": "code",
   "execution_count": null,
   "metadata": {},
   "outputs": [],
   "source": []
  }
 ],
 "metadata": {
  "kernelspec": {
   "display_name": "Python 3",
   "language": "python",
   "name": "python3"
  },
  "language_info": {
   "codemirror_mode": {
    "name": "ipython",
    "version": 3
   },
   "file_extension": ".py",
   "mimetype": "text/x-python",
   "name": "python",
   "nbconvert_exporter": "python",
   "pygments_lexer": "ipython3",
   "version": "3.6.12"
  }
 },
 "nbformat": 4,
 "nbformat_minor": 4
}
