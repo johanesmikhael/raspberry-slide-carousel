{
 "cells": [
  {
   "cell_type": "code",
   "execution_count": 34,
   "metadata": {},
   "outputs": [
    {
     "name": "stdout",
     "output_type": "stream",
     "text": [
      "['192.168.0.201', '192.168.0.202', '192.168.0.203', '192.168.0.204', '192.168.0.205', '192.168.0.206', '192.168.0.207', '192.168.0.208', '192.168.0.209', '192.168.0.210', '192.168.0.211', '192.168.0.212']\n"
     ]
    }
   ],
   "source": [
    "import os\n",
    "import subprocess\n",
    "from pynput.keyboard import Key, Listener\n",
    "import time\n",
    "\n",
    "# define the ip\n",
    "ips = []\n",
    "pre = '192.168.0'\n",
    "n = 12\n",
    "for i in range(n):\n",
    "    ips.append(f'{pre}.{str(200+i+1)}')\n",
    "print(ips)\n",
    "\n"
   ]
  },
  {
   "cell_type": "code",
   "execution_count": 35,
   "metadata": {},
   "outputs": [
    {
     "name": "stdout",
     "output_type": "stream",
     "text": [
      "stop streaming keyboard\n"
     ]
    }
   ],
   "source": [
    "# turn on keyboard listening\n",
    "\n",
    "def on_press(key):\n",
    "    if key == Key.right:\n",
    "        for ip in ips:\n",
    "            # os.system(f'ssh pi@{ip} DISPLAY=:0.0 xdotool key 0xff53')\n",
    "            subprocess.Popen(f'ssh pi@{ip} DISPLAY=:0.0 xdotool key 0xff53'.split(), shell=False)\n",
    "        time.sleep(15)\n",
    "    if key == Key.left:\n",
    "        for ip in ips:\n",
    "            # os.system(f'ssh pi@{ip} DISPLAY=:0.0 xdotool key 0xff51') \n",
    "            subprocess.Popen(f'ssh pi@{ip} DISPLAY=:0.0 xdotool key 0xff51'.split(), shell=False)\n",
    "        time.sleep(15)\n",
    "    if key == Key.page_up:\n",
    "        for ip in ips:\n",
    "            # os.system(f'ssh pi@{ip} DISPLAY=:0.0 xdotool key 0xff53')\n",
    "            subprocess.Popen(f'ssh pi@{ip} DISPLAY=:0.0 xdotool key 0xff51'.split(), shell=False)\n",
    "        time.sleep(15)\n",
    "    if key == Key.page_down:\n",
    "        for ip in ips:\n",
    "            # os.system(f'ssh pi@{ip} DISPLAY=:0.0 xdotool key 0xff51') \n",
    "            subprocess.Popen(f'ssh pi@{ip} DISPLAY=:0.0 xdotool key 0xff53'.split(), shell=False)\n",
    "        time.sleep(15)\n",
    "    if key == Key.backspace:\n",
    "        # Stop listener\n",
    "        print('stop streaming keyboard')\n",
    "        return False\n",
    "        \n",
    "def on_release(key):\n",
    "    if key == Key.backspace:\n",
    "        # Stop listener\n",
    "        print('stop streaming keyboard')\n",
    "        return False\n",
    "    pass\n",
    "\n",
    "# start listening to keyboard\n",
    "with Listener(\n",
    "        on_press=on_press,\n",
    "        on_release=on_release) as listener:\n",
    "    listener.join()"
   ]
  },
  {
   "cell_type": "code",
   "execution_count": null,
   "metadata": {},
   "outputs": [],
   "source": [
    "# while True:\n",
    "    # for ip in ips:\n",
    "        # os.system(f'ssh pi@{ip} DISPLAY=:0.0 xdotool key 0xff51') \n",
    "        # subprocess.Popen(f'ssh pi@{ip} DISPLAY=:0.0 xdotool key 0xff53'.split(), shell=False)\n",
    "    # time.sleep(30)"
   ]
  },
  {
   "cell_type": "code",
   "execution_count": 8,
   "metadata": {},
   "outputs": [
    {
     "name": "stdout",
     "output_type": "stream",
     "text": [
      "stop streaming keyboard\n"
     ]
    }
   ],
   "source": [
    "# turn on keyboard listening no wait\n",
    "\n",
    "def on_press(key):\n",
    "    if key == Key.right:\n",
    "        for ip in ips:\n",
    "            # os.system(f'ssh pi@{ip} DISPLAY=:0.0 xdotool key 0xff53')\n",
    "            subprocess.Popen(f'ssh pi@{ip} DISPLAY=:0.0 xdotool key 0xff53'.split(), shell=False)\n",
    "        time.sleep(2)\n",
    "    if key == Key.left:\n",
    "        for ip in ips:\n",
    "            # os.system(f'ssh pi@{ip} DISPLAY=:0.0 xdotool key 0xff51') \n",
    "            subprocess.Popen(f'ssh pi@{ip} DISPLAY=:0.0 xdotool key 0xff51'.split(), shell=False)\n",
    "        time.sleep(2)\n",
    "    if key == Key.page_up:\n",
    "        for ip in ips:\n",
    "            # os.system(f'ssh pi@{ip} DISPLAY=:0.0 xdotool key 0xff53')\n",
    "            subprocess.Popen(f'ssh pi@{ip} DISPLAY=:0.0 xdotool key 0xff51'.split(), shell=False)\n",
    "        time.sleep(2)\n",
    "    if key == Key.page_down:\n",
    "        for ip in ips:\n",
    "            # os.system(f'ssh pi@{ip} DISPLAY=:0.0 xdotool key 0xff51') \n",
    "            subprocess.Popen(f'ssh pi@{ip} DISPLAY=:0.0 xdotool key 0xff53'.split(), shell=False)\n",
    "        time.sleep(2)\n",
    "    if key == Key.backspace:\n",
    "        # Stop listener\n",
    "        print('stop streaming keyboard')\n",
    "        return False\n",
    "        \n",
    "def on_release(key):\n",
    "    if key == Key.backspace:\n",
    "        # Stop listener\n",
    "        print('stop streaming keyboard')\n",
    "        return False\n",
    "    pass\n",
    "\n",
    "# start listening to keyboard\n",
    "with Listener(\n",
    "        on_press=on_press,\n",
    "        on_release=on_release) as listener:\n",
    "    listener.join()"
   ]
  },
  {
   "cell_type": "code",
   "execution_count": null,
   "metadata": {},
   "outputs": [],
   "source": []
  }
 ],
 "metadata": {
  "kernelspec": {
   "display_name": "Python 3",
   "language": "python",
   "name": "python3"
  },
  "language_info": {
   "codemirror_mode": {
    "name": "ipython",
    "version": 3
   },
   "file_extension": ".py",
   "mimetype": "text/x-python",
   "name": "python",
   "nbconvert_exporter": "python",
   "pygments_lexer": "ipython3",
   "version": "3.6.12"
  }
 },
 "nbformat": 4,
 "nbformat_minor": 4
}
